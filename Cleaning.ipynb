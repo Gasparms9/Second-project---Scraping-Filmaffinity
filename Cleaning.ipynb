{
 "cells": [
  {
   "cell_type": "markdown",
   "id": "5ec0a1f9",
   "metadata": {},
   "source": [
    "## Cleaning"
   ]
  },
  {
   "cell_type": "code",
   "execution_count": null,
   "id": "d3970503",
   "metadata": {},
   "outputs": [],
   "source": [
    "import numpy as np\n",
    "import pandas as pd\n",
    "import seaborn as snsÇ\n",
    "import matplotlib.pyplot as plt"
   ]
  },
  {
   "cell_type": "code",
   "execution_count": null,
   "id": "1640b820",
   "metadata": {},
   "outputs": [],
   "source": [
    "GSAF = r\"C:\\Users\\lenovo\\Desktop\\Ironhack\\Second project - IMDB-FA\\Src\\clean_data_filmaff_imdb.csv\"\n",
    "\n",
    "df = pd.read_csv(GSAF, encoding = \"ISO-8859-1\")"
   ]
  },
  {
   "cell_type": "markdown",
   "id": "5e58ddc9",
   "metadata": {},
   "source": [
    "## Runtime variable"
   ]
  },
  {
   "cell_type": "code",
   "execution_count": null,
   "id": "4b6bd10a",
   "metadata": {},
   "outputs": [],
   "source": [
    "def runtime_int(string):\n",
    "    number = string.replace(\" min\", \"\")\n",
    "    number = int(number)\n",
    "    return number\n",
    "\n",
    "df[\"Runtime\"] = df[\"Runtime\"].apply(runtime_int)"
   ]
  },
  {
   "cell_type": "markdown",
   "id": "ea18a42a",
   "metadata": {},
   "source": [
    "## Export"
   ]
  },
  {
   "cell_type": "code",
   "execution_count": null,
   "id": "d71a09fa",
   "metadata": {},
   "outputs": [],
   "source": [
    "df.to_csv(\"src/clean_data_filmaff_imdb.csv\",index=False)"
   ]
  },
  {
   "cell_type": "code",
   "execution_count": null,
   "id": "26c748a1",
   "metadata": {},
   "outputs": [],
   "source": []
  }
 ],
 "metadata": {
  "kernelspec": {
   "display_name": "Python 3 (ipykernel)",
   "language": "python",
   "name": "python3"
  },
  "language_info": {
   "codemirror_mode": {
    "name": "ipython",
    "version": 3
   },
   "file_extension": ".py",
   "mimetype": "text/x-python",
   "name": "python",
   "nbconvert_exporter": "python",
   "pygments_lexer": "ipython3",
   "version": "3.9.12"
  }
 },
 "nbformat": 4,
 "nbformat_minor": 5
}
